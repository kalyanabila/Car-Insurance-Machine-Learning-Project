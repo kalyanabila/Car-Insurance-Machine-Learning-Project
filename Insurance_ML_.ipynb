{
 "cells": [
  {
   "cell_type": "code",
   "execution_count": 1,
   "metadata": {},
   "outputs": [],
   "source": [
    "import pandas as pd\n",
    "import numpy as np\n",
    "import matplotlib.pyplot as plt\n",
    "import seaborn as sns\n",
    "\n",
    "%matplotlib inline\n",
    "\n",
    "import warnings\n",
    "warnings.filterwarnings('ignore')"
   ]
  },
  {
   "cell_type": "code",
   "execution_count": 2,
   "metadata": {},
   "outputs": [
    {
     "data": {
      "text/html": [
       "<div>\n",
       "<style scoped>\n",
       "    .dataframe tbody tr th:only-of-type {\n",
       "        vertical-align: middle;\n",
       "    }\n",
       "\n",
       "    .dataframe tbody tr th {\n",
       "        vertical-align: top;\n",
       "    }\n",
       "\n",
       "    .dataframe thead th {\n",
       "        text-align: right;\n",
       "    }\n",
       "</style>\n",
       "<table border=\"1\" class=\"dataframe\">\n",
       "  <thead>\n",
       "    <tr style=\"text-align: right;\">\n",
       "      <th></th>\n",
       "      <th>Id</th>\n",
       "      <th>Age</th>\n",
       "      <th>Job</th>\n",
       "      <th>Marital</th>\n",
       "      <th>Education</th>\n",
       "      <th>Default</th>\n",
       "      <th>Balance</th>\n",
       "      <th>HHInsurance</th>\n",
       "      <th>CarLoan</th>\n",
       "      <th>Communication</th>\n",
       "      <th>LastContactDay</th>\n",
       "      <th>LastContactMonth</th>\n",
       "      <th>NoOfContacts</th>\n",
       "      <th>DaysPassed</th>\n",
       "      <th>PrevAttempts</th>\n",
       "      <th>Outcome</th>\n",
       "      <th>CallStart</th>\n",
       "      <th>CallEnd</th>\n",
       "      <th>CarInsurance</th>\n",
       "    </tr>\n",
       "  </thead>\n",
       "  <tbody>\n",
       "    <tr>\n",
       "      <th>0</th>\n",
       "      <td>1</td>\n",
       "      <td>32</td>\n",
       "      <td>management</td>\n",
       "      <td>single</td>\n",
       "      <td>tertiary</td>\n",
       "      <td>0</td>\n",
       "      <td>1218</td>\n",
       "      <td>1</td>\n",
       "      <td>0</td>\n",
       "      <td>telephone</td>\n",
       "      <td>28</td>\n",
       "      <td>jan</td>\n",
       "      <td>2</td>\n",
       "      <td>-1</td>\n",
       "      <td>0</td>\n",
       "      <td>NaN</td>\n",
       "      <td>13:45:20</td>\n",
       "      <td>13:46:30</td>\n",
       "      <td>0</td>\n",
       "    </tr>\n",
       "    <tr>\n",
       "      <th>1</th>\n",
       "      <td>2</td>\n",
       "      <td>32</td>\n",
       "      <td>blue-collar</td>\n",
       "      <td>married</td>\n",
       "      <td>primary</td>\n",
       "      <td>0</td>\n",
       "      <td>1156</td>\n",
       "      <td>1</td>\n",
       "      <td>0</td>\n",
       "      <td>NaN</td>\n",
       "      <td>26</td>\n",
       "      <td>may</td>\n",
       "      <td>5</td>\n",
       "      <td>-1</td>\n",
       "      <td>0</td>\n",
       "      <td>NaN</td>\n",
       "      <td>14:49:03</td>\n",
       "      <td>14:52:08</td>\n",
       "      <td>0</td>\n",
       "    </tr>\n",
       "    <tr>\n",
       "      <th>2</th>\n",
       "      <td>3</td>\n",
       "      <td>29</td>\n",
       "      <td>management</td>\n",
       "      <td>single</td>\n",
       "      <td>tertiary</td>\n",
       "      <td>0</td>\n",
       "      <td>637</td>\n",
       "      <td>1</td>\n",
       "      <td>0</td>\n",
       "      <td>cellular</td>\n",
       "      <td>3</td>\n",
       "      <td>jun</td>\n",
       "      <td>1</td>\n",
       "      <td>119</td>\n",
       "      <td>1</td>\n",
       "      <td>failure</td>\n",
       "      <td>16:30:24</td>\n",
       "      <td>16:36:04</td>\n",
       "      <td>1</td>\n",
       "    </tr>\n",
       "    <tr>\n",
       "      <th>3</th>\n",
       "      <td>4</td>\n",
       "      <td>25</td>\n",
       "      <td>student</td>\n",
       "      <td>single</td>\n",
       "      <td>primary</td>\n",
       "      <td>0</td>\n",
       "      <td>373</td>\n",
       "      <td>1</td>\n",
       "      <td>0</td>\n",
       "      <td>cellular</td>\n",
       "      <td>11</td>\n",
       "      <td>may</td>\n",
       "      <td>2</td>\n",
       "      <td>-1</td>\n",
       "      <td>0</td>\n",
       "      <td>NaN</td>\n",
       "      <td>12:06:43</td>\n",
       "      <td>12:20:22</td>\n",
       "      <td>1</td>\n",
       "    </tr>\n",
       "    <tr>\n",
       "      <th>4</th>\n",
       "      <td>5</td>\n",
       "      <td>30</td>\n",
       "      <td>management</td>\n",
       "      <td>married</td>\n",
       "      <td>tertiary</td>\n",
       "      <td>0</td>\n",
       "      <td>2694</td>\n",
       "      <td>0</td>\n",
       "      <td>0</td>\n",
       "      <td>cellular</td>\n",
       "      <td>3</td>\n",
       "      <td>jun</td>\n",
       "      <td>1</td>\n",
       "      <td>-1</td>\n",
       "      <td>0</td>\n",
       "      <td>NaN</td>\n",
       "      <td>14:35:44</td>\n",
       "      <td>14:38:56</td>\n",
       "      <td>0</td>\n",
       "    </tr>\n",
       "  </tbody>\n",
       "</table>\n",
       "</div>"
      ],
      "text/plain": [
       "   Id  Age          Job  Marital Education  Default  Balance  HHInsurance  \\\n",
       "0   1   32   management   single  tertiary        0     1218            1   \n",
       "1   2   32  blue-collar  married   primary        0     1156            1   \n",
       "2   3   29   management   single  tertiary        0      637            1   \n",
       "3   4   25      student   single   primary        0      373            1   \n",
       "4   5   30   management  married  tertiary        0     2694            0   \n",
       "\n",
       "   CarLoan Communication  LastContactDay LastContactMonth  NoOfContacts  \\\n",
       "0        0     telephone              28              jan             2   \n",
       "1        0           NaN              26              may             5   \n",
       "2        0      cellular               3              jun             1   \n",
       "3        0      cellular              11              may             2   \n",
       "4        0      cellular               3              jun             1   \n",
       "\n",
       "   DaysPassed  PrevAttempts  Outcome CallStart   CallEnd  CarInsurance  \n",
       "0          -1             0      NaN  13:45:20  13:46:30             0  \n",
       "1          -1             0      NaN  14:49:03  14:52:08             0  \n",
       "2         119             1  failure  16:30:24  16:36:04             1  \n",
       "3          -1             0      NaN  12:06:43  12:20:22             1  \n",
       "4          -1             0      NaN  14:35:44  14:38:56             0  "
      ]
     },
     "execution_count": 2,
     "metadata": {},
     "output_type": "execute_result"
    }
   ],
   "source": [
    "df = pd.read_csv('Insurance.csv')\n",
    "df.head()"
   ]
  },
  {
   "cell_type": "code",
   "execution_count": 3,
   "metadata": {},
   "outputs": [
    {
     "data": {
      "text/plain": [
       "Id                     0\n",
       "Age                    0\n",
       "Job                   19\n",
       "Marital                0\n",
       "Education            169\n",
       "Default                0\n",
       "Balance                0\n",
       "HHInsurance            0\n",
       "CarLoan                0\n",
       "Communication        902\n",
       "LastContactDay         0\n",
       "LastContactMonth       0\n",
       "NoOfContacts           0\n",
       "DaysPassed             0\n",
       "PrevAttempts           0\n",
       "Outcome             3042\n",
       "CallStart              0\n",
       "CallEnd                0\n",
       "CarInsurance           0\n",
       "dtype: int64"
      ]
     },
     "execution_count": 3,
     "metadata": {},
     "output_type": "execute_result"
    }
   ],
   "source": [
    "# Checking if there is any null values\n",
    "df.isna().sum()\n",
    "\n",
    "# We have missing values here in this dataset, so we'll handle this."
   ]
  },
  {
   "cell_type": "code",
   "execution_count": 4,
   "metadata": {},
   "outputs": [
    {
     "name": "stdout",
     "output_type": "stream",
     "text": [
      "number of NaN values for the column Job : 19\n",
      "number of NaN values for the column Education : 169\n",
      "number of NaN values for the column Communication : 902\n"
     ]
    }
   ],
   "source": [
    "# Remove columns id and outcome since we don't need id columns, and outcome has more missing values than the non null\n",
    "\n",
    "df.drop(['Id', 'Outcome'], axis = 1, inplace = True)\n",
    "\n",
    "# We will add missing values on categorical variables with the most frequent\n",
    "print(\"number of NaN values for the column Job :\", df['Job'].isnull().sum())\n",
    "print(\"number of NaN values for the column Education :\", df['Education'].isnull().sum())\n",
    "print(\"number of NaN values for the column Communication :\", df['Communication'].isnull().sum())"
   ]
  },
  {
   "cell_type": "code",
   "execution_count": 5,
   "metadata": {},
   "outputs": [
    {
     "data": {
      "text/plain": [
       "Age                 0\n",
       "Job                 0\n",
       "Marital             0\n",
       "Education           0\n",
       "Default             0\n",
       "Balance             0\n",
       "HHInsurance         0\n",
       "CarLoan             0\n",
       "Communication       0\n",
       "LastContactDay      0\n",
       "LastContactMonth    0\n",
       "NoOfContacts        0\n",
       "DaysPassed          0\n",
       "PrevAttempts        0\n",
       "CallStart           0\n",
       "CallEnd             0\n",
       "CarInsurance        0\n",
       "dtype: int64"
      ]
     },
     "execution_count": 5,
     "metadata": {},
     "output_type": "execute_result"
    }
   ],
   "source": [
    "df.fillna(df.select_dtypes(include='object').mode().iloc[0], inplace=True)\n",
    "# Run check for missing values after handling missing value in categorical var with most frequent (modes)\n",
    "df.isna().sum()"
   ]
  },
  {
   "cell_type": "code",
   "execution_count": 6,
   "metadata": {},
   "outputs": [
    {
     "name": "stdout",
     "output_type": "stream",
     "text": [
      "number of NaN values for the column Job : 0\n",
      "number of NaN values for the column Education : 0\n",
      "number of NaN values for the column Communication : 0\n"
     ]
    }
   ],
   "source": [
    "print(\"number of NaN values for the column Job :\", df['Job'].isnull().sum())\n",
    "print(\"number of NaN values for the column Education :\", df['Education'].isnull().sum())\n",
    "print(\"number of NaN values for the column Communication :\", df['Communication'].isnull().sum())\n",
    "\n",
    "# We don't have missing value"
   ]
  },
  {
   "cell_type": "code",
   "execution_count": 7,
   "metadata": {},
   "outputs": [
    {
     "data": {
      "text/html": [
       "<div>\n",
       "<style scoped>\n",
       "    .dataframe tbody tr th:only-of-type {\n",
       "        vertical-align: middle;\n",
       "    }\n",
       "\n",
       "    .dataframe tbody tr th {\n",
       "        vertical-align: top;\n",
       "    }\n",
       "\n",
       "    .dataframe thead th {\n",
       "        text-align: right;\n",
       "    }\n",
       "</style>\n",
       "<table border=\"1\" class=\"dataframe\">\n",
       "  <thead>\n",
       "    <tr style=\"text-align: right;\">\n",
       "      <th></th>\n",
       "      <th>Age</th>\n",
       "      <th>Job</th>\n",
       "      <th>Marital</th>\n",
       "      <th>Education</th>\n",
       "      <th>Default</th>\n",
       "      <th>Balance</th>\n",
       "      <th>HHInsurance</th>\n",
       "      <th>CarLoan</th>\n",
       "      <th>Communication</th>\n",
       "      <th>LastContactDay</th>\n",
       "      <th>LastContactMonth</th>\n",
       "      <th>NoOfContacts</th>\n",
       "      <th>DaysPassed</th>\n",
       "      <th>PrevAttempts</th>\n",
       "      <th>CallStart</th>\n",
       "      <th>CallEnd</th>\n",
       "      <th>CarInsurance</th>\n",
       "    </tr>\n",
       "  </thead>\n",
       "  <tbody>\n",
       "    <tr>\n",
       "      <th>0</th>\n",
       "      <td>32</td>\n",
       "      <td>4</td>\n",
       "      <td>2</td>\n",
       "      <td>2</td>\n",
       "      <td>0</td>\n",
       "      <td>1218</td>\n",
       "      <td>1</td>\n",
       "      <td>0</td>\n",
       "      <td>1</td>\n",
       "      <td>28</td>\n",
       "      <td>jan</td>\n",
       "      <td>2</td>\n",
       "      <td>-1</td>\n",
       "      <td>0</td>\n",
       "      <td>13:45:20</td>\n",
       "      <td>13:46:30</td>\n",
       "      <td>0</td>\n",
       "    </tr>\n",
       "    <tr>\n",
       "      <th>1</th>\n",
       "      <td>32</td>\n",
       "      <td>1</td>\n",
       "      <td>1</td>\n",
       "      <td>0</td>\n",
       "      <td>0</td>\n",
       "      <td>1156</td>\n",
       "      <td>1</td>\n",
       "      <td>0</td>\n",
       "      <td>0</td>\n",
       "      <td>26</td>\n",
       "      <td>may</td>\n",
       "      <td>5</td>\n",
       "      <td>-1</td>\n",
       "      <td>0</td>\n",
       "      <td>14:49:03</td>\n",
       "      <td>14:52:08</td>\n",
       "      <td>0</td>\n",
       "    </tr>\n",
       "    <tr>\n",
       "      <th>2</th>\n",
       "      <td>29</td>\n",
       "      <td>4</td>\n",
       "      <td>2</td>\n",
       "      <td>2</td>\n",
       "      <td>0</td>\n",
       "      <td>637</td>\n",
       "      <td>1</td>\n",
       "      <td>0</td>\n",
       "      <td>0</td>\n",
       "      <td>3</td>\n",
       "      <td>jun</td>\n",
       "      <td>1</td>\n",
       "      <td>119</td>\n",
       "      <td>1</td>\n",
       "      <td>16:30:24</td>\n",
       "      <td>16:36:04</td>\n",
       "      <td>1</td>\n",
       "    </tr>\n",
       "    <tr>\n",
       "      <th>3</th>\n",
       "      <td>25</td>\n",
       "      <td>8</td>\n",
       "      <td>2</td>\n",
       "      <td>0</td>\n",
       "      <td>0</td>\n",
       "      <td>373</td>\n",
       "      <td>1</td>\n",
       "      <td>0</td>\n",
       "      <td>0</td>\n",
       "      <td>11</td>\n",
       "      <td>may</td>\n",
       "      <td>2</td>\n",
       "      <td>-1</td>\n",
       "      <td>0</td>\n",
       "      <td>12:06:43</td>\n",
       "      <td>12:20:22</td>\n",
       "      <td>1</td>\n",
       "    </tr>\n",
       "    <tr>\n",
       "      <th>4</th>\n",
       "      <td>30</td>\n",
       "      <td>4</td>\n",
       "      <td>1</td>\n",
       "      <td>2</td>\n",
       "      <td>0</td>\n",
       "      <td>2694</td>\n",
       "      <td>0</td>\n",
       "      <td>0</td>\n",
       "      <td>0</td>\n",
       "      <td>3</td>\n",
       "      <td>jun</td>\n",
       "      <td>1</td>\n",
       "      <td>-1</td>\n",
       "      <td>0</td>\n",
       "      <td>14:35:44</td>\n",
       "      <td>14:38:56</td>\n",
       "      <td>0</td>\n",
       "    </tr>\n",
       "    <tr>\n",
       "      <th>3995</th>\n",
       "      <td>28</td>\n",
       "      <td>9</td>\n",
       "      <td>2</td>\n",
       "      <td>2</td>\n",
       "      <td>0</td>\n",
       "      <td>0</td>\n",
       "      <td>1</td>\n",
       "      <td>0</td>\n",
       "      <td>0</td>\n",
       "      <td>25</td>\n",
       "      <td>may</td>\n",
       "      <td>1</td>\n",
       "      <td>40</td>\n",
       "      <td>2</td>\n",
       "      <td>17:46:28</td>\n",
       "      <td>17:50:57</td>\n",
       "      <td>1</td>\n",
       "    </tr>\n",
       "    <tr>\n",
       "      <th>3996</th>\n",
       "      <td>49</td>\n",
       "      <td>0</td>\n",
       "      <td>0</td>\n",
       "      <td>1</td>\n",
       "      <td>0</td>\n",
       "      <td>124</td>\n",
       "      <td>1</td>\n",
       "      <td>1</td>\n",
       "      <td>0</td>\n",
       "      <td>29</td>\n",
       "      <td>jul</td>\n",
       "      <td>19</td>\n",
       "      <td>-1</td>\n",
       "      <td>0</td>\n",
       "      <td>14:49:16</td>\n",
       "      <td>14:51:21</td>\n",
       "      <td>0</td>\n",
       "    </tr>\n",
       "    <tr>\n",
       "      <th>3997</th>\n",
       "      <td>27</td>\n",
       "      <td>0</td>\n",
       "      <td>2</td>\n",
       "      <td>1</td>\n",
       "      <td>0</td>\n",
       "      <td>-400</td>\n",
       "      <td>0</td>\n",
       "      <td>1</td>\n",
       "      <td>0</td>\n",
       "      <td>8</td>\n",
       "      <td>jul</td>\n",
       "      <td>1</td>\n",
       "      <td>-1</td>\n",
       "      <td>0</td>\n",
       "      <td>12:19:03</td>\n",
       "      <td>12:23:53</td>\n",
       "      <td>0</td>\n",
       "    </tr>\n",
       "    <tr>\n",
       "      <th>3998</th>\n",
       "      <td>36</td>\n",
       "      <td>2</td>\n",
       "      <td>2</td>\n",
       "      <td>2</td>\n",
       "      <td>0</td>\n",
       "      <td>658</td>\n",
       "      <td>1</td>\n",
       "      <td>0</td>\n",
       "      <td>0</td>\n",
       "      <td>29</td>\n",
       "      <td>jan</td>\n",
       "      <td>1</td>\n",
       "      <td>227</td>\n",
       "      <td>3</td>\n",
       "      <td>11:27:35</td>\n",
       "      <td>11:29:14</td>\n",
       "      <td>0</td>\n",
       "    </tr>\n",
       "    <tr>\n",
       "      <th>3999</th>\n",
       "      <td>45</td>\n",
       "      <td>7</td>\n",
       "      <td>1</td>\n",
       "      <td>0</td>\n",
       "      <td>0</td>\n",
       "      <td>137</td>\n",
       "      <td>1</td>\n",
       "      <td>0</td>\n",
       "      <td>0</td>\n",
       "      <td>9</td>\n",
       "      <td>may</td>\n",
       "      <td>2</td>\n",
       "      <td>-1</td>\n",
       "      <td>0</td>\n",
       "      <td>13:31:48</td>\n",
       "      <td>13:36:22</td>\n",
       "      <td>0</td>\n",
       "    </tr>\n",
       "  </tbody>\n",
       "</table>\n",
       "</div>"
      ],
      "text/plain": [
       "      Age  Job  Marital  Education  Default  Balance  HHInsurance  CarLoan  \\\n",
       "0      32    4        2          2        0     1218            1        0   \n",
       "1      32    1        1          0        0     1156            1        0   \n",
       "2      29    4        2          2        0      637            1        0   \n",
       "3      25    8        2          0        0      373            1        0   \n",
       "4      30    4        1          2        0     2694            0        0   \n",
       "3995   28    9        2          2        0        0            1        0   \n",
       "3996   49    0        0          1        0      124            1        1   \n",
       "3997   27    0        2          1        0     -400            0        1   \n",
       "3998   36    2        2          2        0      658            1        0   \n",
       "3999   45    7        1          0        0      137            1        0   \n",
       "\n",
       "      Communication  LastContactDay LastContactMonth  NoOfContacts  \\\n",
       "0                 1              28              jan             2   \n",
       "1                 0              26              may             5   \n",
       "2                 0               3              jun             1   \n",
       "3                 0              11              may             2   \n",
       "4                 0               3              jun             1   \n",
       "3995              0              25              may             1   \n",
       "3996              0              29              jul            19   \n",
       "3997              0               8              jul             1   \n",
       "3998              0              29              jan             1   \n",
       "3999              0               9              may             2   \n",
       "\n",
       "      DaysPassed  PrevAttempts CallStart   CallEnd  CarInsurance  \n",
       "0             -1             0  13:45:20  13:46:30             0  \n",
       "1             -1             0  14:49:03  14:52:08             0  \n",
       "2            119             1  16:30:24  16:36:04             1  \n",
       "3             -1             0  12:06:43  12:20:22             1  \n",
       "4             -1             0  14:35:44  14:38:56             0  \n",
       "3995          40             2  17:46:28  17:50:57             1  \n",
       "3996          -1             0  14:49:16  14:51:21             0  \n",
       "3997          -1             0  12:19:03  12:23:53             0  \n",
       "3998         227             3  11:27:35  11:29:14             0  \n",
       "3999          -1             0  13:31:48  13:36:22             0  "
      ]
     },
     "execution_count": 7,
     "metadata": {},
     "output_type": "execute_result"
    }
   ],
   "source": [
    "from sklearn.preprocessing import LabelEncoder\n",
    "\n",
    "# '', 'CallEnd', '', '', '', 'CallStart', ''\n",
    "# transform nameOrig and nameDest 0 : C (customer) ,  1 : M (merchant)\n",
    "# transfrom Job to 0 : Admin, 1 : Blue Collar, 2 : Entrepreneur, 3 : Housemaid, 4 : Management, 5 : Retired, \n",
    "                #  6 : Self-Employment, 7 : Services, 8 : Student, 9 : Technician, 10 : Unemployment \n",
    "# Marital = 0 : Divorced, 1 : Married, 2 : Single\n",
    "# Education = 0 : Primary, 1 : Secondary, 2 : Tertiary\n",
    "# Communication = 0 : Cellular, 1 : Telephone\n",
    "\n",
    "\n",
    "df['Job'] = LabelEncoder().fit_transform(df['Job'])\n",
    "df['Marital'] = LabelEncoder().fit_transform(df['Marital'])\n",
    "df['Education'] = LabelEncoder().fit_transform(df['Education'])\n",
    "df['Communication'] = LabelEncoder().fit_transform(df['Communication'])\n",
    "pd.concat([df.head(), df.tail()])"
   ]
  },
  {
   "cell_type": "code",
   "execution_count": 8,
   "metadata": {},
   "outputs": [
    {
     "data": {
      "image/png": "[encoded data removed]",
      "text/plain": [
       "<Figure size 1440x720 with 2 Axes>"
      ]
     },
     "metadata": {
      "needs_background": "light"
     },
     "output_type": "display_data"
    }
   ],
   "source": [
    "plt.figure(figsize = (20, 10))\n",
    "sns.heatmap(df.corr(), annot = True, vmin=-1, vmax=1, center= 0, cmap= 'coolwarm')\n",
    "plt.show()"
   ]
  },
  {
   "cell_type": "code",
   "execution_count": 9,
   "metadata": {},
   "outputs": [
    {
     "data": {
      "text/plain": [
       "HHInsurance      -0.203419\n",
       "NoOfContacts     -0.114884\n",
       "CarLoan          -0.092131\n",
       "LastContactDay   -0.061271\n",
       "Default          -0.039506\n",
       "Communication     0.032563\n",
       "Age               0.039158\n",
       "Balance           0.041561\n",
       "Marital           0.047553\n",
       "Job               0.076788\n",
       "Education         0.090324\n",
       "DaysPassed        0.138943\n",
       "PrevAttempts      0.148763\n",
       "CarInsurance      1.000000\n",
       "Name: CarInsurance, dtype: float64"
      ]
     },
     "execution_count": 9,
     "metadata": {},
     "output_type": "execute_result"
    }
   ],
   "source": [
    "df.corr()['CarInsurance'].sort_values(ascending = True)"
   ]
  },
  {
   "cell_type": "code",
   "execution_count": 24,
   "metadata": {},
   "outputs": [
    {
     "data": {
      "text/plain": [
       "0    2396\n",
       "1    1604\n",
       "Name: CarInsurance, dtype: int64"
      ]
     },
     "execution_count": 24,
     "metadata": {},
     "output_type": "execute_result"
    }
   ],
   "source": [
    "df['CarInsurance'].value_counts()"
   ]
  },
  {
   "cell_type": "markdown",
   "metadata": {},
   "source": [
    "# Feature Selection"
   ]
  },
  {
   "cell_type": "code",
   "execution_count": 14,
   "metadata": {},
   "outputs": [],
   "source": [
    "from sklearn.model_selection import train_test_split\n",
    "\n",
    "X = df[['HHInsurance', 'NoOfContacts', 'CarLoan', 'Default', 'PrevAttempts', 'DaysPassed', 'Education', 'Job', 'Marital', 'Balance', 'Age', 'Communication']]\n",
    "y = df['CarInsurance']\n",
    "\n",
    "X_train, X_test, y_train, y_test = train_test_split(X, y, random_state = 42, test_size = 0.2, stratify = y)"
   ]
  },
  {
   "cell_type": "code",
   "execution_count": 15,
   "metadata": {},
   "outputs": [
    {
     "data": {
      "text/plain": [
       "(3200, 12)"
      ]
     },
     "execution_count": 15,
     "metadata": {},
     "output_type": "execute_result"
    }
   ],
   "source": [
    "X_train.shape"
   ]
  },
  {
   "cell_type": "code",
   "execution_count": 16,
   "metadata": {},
   "outputs": [
    {
     "data": {
      "text/plain": [
       "(800, 12)"
      ]
     },
     "execution_count": 16,
     "metadata": {},
     "output_type": "execute_result"
    }
   ],
   "source": [
    "X_test.shape"
   ]
  },
  {
   "cell_type": "markdown",
   "metadata": {},
   "source": [
    "# Handling Imbalance Data"
   ]
  },
  {
   "cell_type": "code",
   "execution_count": 25,
   "metadata": {},
   "outputs": [],
   "source": [
    "from sklearn.utils import resample\n",
    "\n",
    "df_train = pd.concat([X_train, y_train], axis=1)\n",
    "non_insurance = df_train[df_train['CarInsurance'] == 0] ## Kelas Majority\n",
    "insurance = df_train[df_train['CarInsurance'] == 1] ## Kelas Minority"
   ]
  },
  {
   "cell_type": "markdown",
   "metadata": {},
   "source": [
    "### SMOTE - Synthetic Minority Oversampling Technique"
   ]
  },
  {
   "cell_type": "code",
   "execution_count": 26,
   "metadata": {},
   "outputs": [],
   "source": [
    "from imblearn.over_sampling import SMOTE\n",
    "sm = SMOTE(random_state=42)"
   ]
  },
  {
   "cell_type": "code",
   "execution_count": 27,
   "metadata": {},
   "outputs": [],
   "source": [
    "X_train_sm, y_train_sm = sm.fit_sample(X_train, y_train)"
   ]
  },
  {
   "cell_type": "code",
   "execution_count": 28,
   "metadata": {},
   "outputs": [
    {
     "data": {
      "text/plain": [
       "0    1917\n",
       "1    1283\n",
       "Name: CarInsurance, dtype: int64"
      ]
     },
     "execution_count": 28,
     "metadata": {},
     "output_type": "execute_result"
    }
   ],
   "source": [
    "df_train['CarInsurance'].value_counts()"
   ]
  },
  {
   "cell_type": "code",
   "execution_count": 29,
   "metadata": {},
   "outputs": [
    {
     "data": {
      "text/plain": [
       "1    1917\n",
       "0    1917\n",
       "Name: CarInsurance, dtype: int64"
      ]
     },
     "execution_count": 29,
     "metadata": {},
     "output_type": "execute_result"
    }
   ],
   "source": [
    "df_SMOTE = pd.concat([X_train_sm, y_train_sm], axis=1)\n",
    "df_SMOTE['CarInsurance'].value_counts()\n",
    "\n",
    "# to make sure, smote already done"
   ]
  },
  {
   "cell_type": "markdown",
   "metadata": {},
   "source": [
    "# Logistic Regression"
   ]
  },
  {
   "cell_type": "code",
   "execution_count": 40,
   "metadata": {},
   "outputs": [],
   "source": [
    "from sklearn.linear_model import LogisticRegression\n",
    "\n",
    "modelSMOTE_logreg =LogisticRegression()\n",
    "modelSMOTE_logreg.fit(X_train_sm, y_train_sm)\n",
    "y_pred_logreg = modelSMOTE_logreg.predict(X_test)\n",
    "y_pred_logreg_train = modelSMOTE_logreg.predict(X_train_sm)"
   ]
  },
  {
   "cell_type": "code",
   "execution_count": 42,
   "metadata": {},
   "outputs": [],
   "source": [
    "from sklearn.metrics import accuracy_score, recall_score, precision_score, f1_score, classification_report, confusion_matrix"
   ]
  },
  {
   "cell_type": "code",
   "execution_count": 43,
   "metadata": {},
   "outputs": [
    {
     "name": "stdout",
     "output_type": "stream",
     "text": [
      "train recall: 0.6828377673448096\n",
      "test recall: 0.6230529595015576\n"
     ]
    }
   ],
   "source": [
    "precision_logreg = precision_score(y_test, y_pred_logreg)\n",
    "recall_logreg = recall_score(y_test, y_pred_logreg)\n",
    "f1score_logreg = f1_score(y_test, y_pred_logreg)\n",
    "acc_logreg = accuracy_score(y_test, y_pred_logreg)\n",
    "\n",
    "recall_logreg_train = recall_score(y_train_sm, y_pred_logreg_train)\n",
    "\n",
    "print(f\"train recall: {recall_logreg_train}\")\n",
    "print(f\"test recall: {recall_logreg}\")"
   ]
  },
  {
   "cell_type": "code",
   "execution_count": 44,
   "metadata": {},
   "outputs": [
    {
     "name": "stdout",
     "output_type": "stream",
     "text": [
      "              precision    recall  f1-score   support\n",
      "\n",
      "           0       0.72      0.64      0.67       479\n",
      "           1       0.53      0.62      0.58       321\n",
      "\n",
      "    accuracy                           0.63       800\n",
      "   macro avg       0.63      0.63      0.62       800\n",
      "weighted avg       0.64      0.63      0.63       800\n",
      "\n"
     ]
    }
   ],
   "source": [
    "print(classification_report(y_test, y_pred_logreg))"
   ]
  },
  {
   "cell_type": "code",
   "execution_count": 45,
   "metadata": {},
   "outputs": [
    {
     "data": {
      "text/html": [
       "<div>\n",
       "<style scoped>\n",
       "    .dataframe tbody tr th:only-of-type {\n",
       "        vertical-align: middle;\n",
       "    }\n",
       "\n",
       "    .dataframe tbody tr th {\n",
       "        vertical-align: top;\n",
       "    }\n",
       "\n",
       "    .dataframe thead th {\n",
       "        text-align: right;\n",
       "    }\n",
       "</style>\n",
       "<table border=\"1\" class=\"dataframe\">\n",
       "  <thead>\n",
       "    <tr style=\"text-align: right;\">\n",
       "      <th></th>\n",
       "      <th>Prediksi 1</th>\n",
       "      <th>Prediksi 0</th>\n",
       "    </tr>\n",
       "  </thead>\n",
       "  <tbody>\n",
       "    <tr>\n",
       "      <th>aktual 1</th>\n",
       "      <td>200</td>\n",
       "      <td>121</td>\n",
       "    </tr>\n",
       "    <tr>\n",
       "      <th>aktual 0</th>\n",
       "      <td>174</td>\n",
       "      <td>305</td>\n",
       "    </tr>\n",
       "  </tbody>\n",
       "</table>\n",
       "</div>"
      ],
      "text/plain": [
       "          Prediksi 1  Prediksi 0\n",
       "aktual 1         200         121\n",
       "aktual 0         174         305"
      ]
     },
     "execution_count": 45,
     "metadata": {},
     "output_type": "execute_result"
    }
   ],
   "source": [
    "cm_logreg = confusion_matrix(y_test, y_pred_logreg, labels = [1,0])\n",
    "df_logreg = pd.DataFrame(data = cm_logreg, index = ['aktual 1', 'aktual 0'], columns = ['Prediksi 1', 'Prediksi 0'])\n",
    "df_logreg"
   ]
  },
  {
   "cell_type": "code",
   "execution_count": 46,
   "metadata": {},
   "outputs": [
    {
     "data": {
      "text/plain": [
       "<matplotlib.axes._subplots.AxesSubplot at 0x1de0916ee08>"
      ]
     },
     "execution_count": 46,
     "metadata": {},
     "output_type": "execute_result"
    },
    {
     "data": {
      "image/png": "[encoded data removed]",
      "text/plain": [
       "<Figure size 432x288 with 2 Axes>"
      ]
     },
     "metadata": {
      "needs_background": "light"
     },
     "output_type": "display_data"
    }
   ],
   "source": [
    "sns.heatmap(df_logreg, annot = True)"
   ]
  },
  {
   "cell_type": "markdown",
   "metadata": {},
   "source": [
    "# KNN Classifier"
   ]
  },
  {
   "cell_type": "code",
   "execution_count": 47,
   "metadata": {},
   "outputs": [],
   "source": [
    "from sklearn.neighbors import KNeighborsClassifier"
   ]
  },
  {
   "cell_type": "code",
   "execution_count": 48,
   "metadata": {},
   "outputs": [],
   "source": [
    "modelKNN = KNeighborsClassifier()\n",
    "modelKNN.fit(X_train_sm, y_train_sm)\n",
    "y_pred_KNN = modelKNN.predict(X_test)\n",
    "y_pred_KNN_train = modelKNN.predict(X_train_sm)"
   ]
  },
  {
   "cell_type": "code",
   "execution_count": 50,
   "metadata": {},
   "outputs": [
    {
     "name": "stdout",
     "output_type": "stream",
     "text": [
      "Train Recall KNN : 0.7949921752738655\n",
      "Test Recall KNN : 0.5327102803738317\n"
     ]
    }
   ],
   "source": [
    "precision_KNN = precision_score(y_test, y_pred_KNN)\n",
    "recall_KNN = recall_score(y_test, y_pred_KNN)\n",
    "f1score_KNN = f1_score(y_test, y_pred_KNN)\n",
    "acc_KNN = accuracy_score(y_test, y_pred_KNN)\n",
    "\n",
    "recall_KNN_train = recall_score(y_train_sm, y_pred_KNN_train)\n",
    "\n",
    "print(f\"Train Recall KNN : {recall_KNN_train}\")\n",
    "print(f\"Test Recall KNN : {recall_KNN}\")"
   ]
  },
  {
   "cell_type": "code",
   "execution_count": 51,
   "metadata": {},
   "outputs": [
    {
     "name": "stdout",
     "output_type": "stream",
     "text": [
      "              precision    recall  f1-score   support\n",
      "\n",
      "           0       0.64      0.56      0.60       479\n",
      "           1       0.45      0.53      0.49       321\n",
      "\n",
      "    accuracy                           0.55       800\n",
      "   macro avg       0.55      0.55      0.54       800\n",
      "weighted avg       0.56      0.55      0.55       800\n",
      "\n"
     ]
    }
   ],
   "source": [
    "print(classification_report(y_test, y_pred_KNN))"
   ]
  },
  {
   "cell_type": "code",
   "execution_count": null,
   "metadata": {},
   "outputs": [],
   "source": []
  },
  {
   "cell_type": "code",
   "execution_count": null,
   "metadata": {},
   "outputs": [],
   "source": []
  },
  {
   "cell_type": "code",
   "execution_count": 52,
   "metadata": {},
   "outputs": [
    {
     "data": {
      "text/html": [
       "<div>\n",
       "<style scoped>\n",
       "    .dataframe tbody tr th:only-of-type {\n",
       "        vertical-align: middle;\n",
       "    }\n",
       "\n",
       "    .dataframe tbody tr th {\n",
       "        vertical-align: top;\n",
       "    }\n",
       "\n",
       "    .dataframe thead th {\n",
       "        text-align: right;\n",
       "    }\n",
       "</style>\n",
       "<table border=\"1\" class=\"dataframe\">\n",
       "  <thead>\n",
       "    <tr style=\"text-align: right;\">\n",
       "      <th></th>\n",
       "      <th>Prediksi 1</th>\n",
       "      <th>Prediksi 0</th>\n",
       "    </tr>\n",
       "  </thead>\n",
       "  <tbody>\n",
       "    <tr>\n",
       "      <th>aktual 1</th>\n",
       "      <td>171</td>\n",
       "      <td>150</td>\n",
       "    </tr>\n",
       "    <tr>\n",
       "      <th>aktual 0</th>\n",
       "      <td>210</td>\n",
       "      <td>269</td>\n",
       "    </tr>\n",
       "  </tbody>\n",
       "</table>\n",
       "</div>"
      ],
      "text/plain": [
       "          Prediksi 1  Prediksi 0\n",
       "aktual 1         171         150\n",
       "aktual 0         210         269"
      ]
     },
     "execution_count": 52,
     "metadata": {},
     "output_type": "execute_result"
    }
   ],
   "source": [
    "cm_KNN = confusion_matrix(y_test, y_pred_KNN, labels = [1,0])\n",
    "df_KNN = pd.DataFrame(data = cm_KNN, index = ['aktual 1', 'aktual 0'], columns = ['Prediksi 1', 'Prediksi 0'])\n",
    "df_KNN"
   ]
  },
  {
   "cell_type": "code",
   "execution_count": 53,
   "metadata": {},
   "outputs": [
    {
     "data": {
      "text/plain": [
       "<matplotlib.axes._subplots.AxesSubplot at 0x1de087ca0c8>"
      ]
     },
     "execution_count": 53,
     "metadata": {},
     "output_type": "execute_result"
    },
    {
     "data": {
      "image/png": "[encoded data removed]",
      "text/plain": [
       "<Figure size 432x288 with 2 Axes>"
      ]
     },
     "metadata": {
      "needs_background": "light"
     },
     "output_type": "display_data"
    }
   ],
   "source": [
    "sns.heatmap(df_KNN, annot = True)"
   ]
  },
  {
   "cell_type": "markdown",
   "metadata": {},
   "source": [
    "# Decision Tree"
   ]
  },
  {
   "cell_type": "code",
   "execution_count": 54,
   "metadata": {},
   "outputs": [],
   "source": [
    "from sklearn.tree import DecisionTreeClassifier"
   ]
  },
  {
   "cell_type": "code",
   "execution_count": 55,
   "metadata": {},
   "outputs": [],
   "source": [
    "ModelDT =DecisionTreeClassifier()\n",
    "ModelDT.fit(X_train_sm, y_train_sm)\n",
    "y_pred_DT = ModelDT.predict(X_test)\n",
    "y_pred_DT_train = ModelDT.predict(X_train_sm)"
   ]
  },
  {
   "cell_type": "code",
   "execution_count": 56,
   "metadata": {},
   "outputs": [
    {
     "name": "stdout",
     "output_type": "stream",
     "text": [
      "Train Recall KNN : 1.0\n",
      "Test Recall KNN : 0.4953271028037383\n"
     ]
    }
   ],
   "source": [
    "precision_DT = precision_score(y_test, y_pred_DT)\n",
    "recall_DT = recall_score(y_test, y_pred_DT)\n",
    "f1score_DT = f1_score(y_test, y_pred_DT)\n",
    "acc_DT = accuracy_score(y_test, y_pred_DT)\n",
    "\n",
    "recall_DT_train = recall_score(y_train_sm, y_pred_DT_train)\n",
    "\n",
    "print(f\"Train Recall KNN : {recall_DT_train}\")\n",
    "print(f\"Test Recall KNN : {recall_DT}\")"
   ]
  },
  {
   "cell_type": "code",
   "execution_count": 57,
   "metadata": {},
   "outputs": [
    {
     "name": "stdout",
     "output_type": "stream",
     "text": [
      "              precision    recall  f1-score   support\n",
      "\n",
      "           0       0.65      0.63      0.64       479\n",
      "           1       0.47      0.50      0.48       321\n",
      "\n",
      "    accuracy                           0.58       800\n",
      "   macro avg       0.56      0.56      0.56       800\n",
      "weighted avg       0.58      0.58      0.58       800\n",
      "\n"
     ]
    }
   ],
   "source": [
    "print(classification_report(y_test, y_pred_DT))"
   ]
  },
  {
   "cell_type": "code",
   "execution_count": null,
   "metadata": {},
   "outputs": [],
   "source": []
  },
  {
   "cell_type": "code",
   "execution_count": 58,
   "metadata": {},
   "outputs": [
    {
     "data": {
      "text/html": [
       "<div>\n",
       "<style scoped>\n",
       "    .dataframe tbody tr th:only-of-type {\n",
       "        vertical-align: middle;\n",
       "    }\n",
       "\n",
       "    .dataframe tbody tr th {\n",
       "        vertical-align: top;\n",
       "    }\n",
       "\n",
       "    .dataframe thead th {\n",
       "        text-align: right;\n",
       "    }\n",
       "</style>\n",
       "<table border=\"1\" class=\"dataframe\">\n",
       "  <thead>\n",
       "    <tr style=\"text-align: right;\">\n",
       "      <th></th>\n",
       "      <th>Prediksi 1</th>\n",
       "      <th>Prediksi 0</th>\n",
       "    </tr>\n",
       "  </thead>\n",
       "  <tbody>\n",
       "    <tr>\n",
       "      <th>Aktual 1</th>\n",
       "      <td>159</td>\n",
       "      <td>162</td>\n",
       "    </tr>\n",
       "    <tr>\n",
       "      <th>Aktual 0</th>\n",
       "      <td>176</td>\n",
       "      <td>303</td>\n",
       "    </tr>\n",
       "  </tbody>\n",
       "</table>\n",
       "</div>"
      ],
      "text/plain": [
       "          Prediksi 1  Prediksi 0\n",
       "Aktual 1         159         162\n",
       "Aktual 0         176         303"
      ]
     },
     "execution_count": 58,
     "metadata": {},
     "output_type": "execute_result"
    }
   ],
   "source": [
    "cm_DT = confusion_matrix(y_test, y_pred_DT, labels = [1,0])\n",
    "df_DT = pd.DataFrame(data = cm_DT, index = ['Aktual 1', 'Aktual 0'], columns = ['Prediksi 1', 'Prediksi 0'])\n",
    "df_DT"
   ]
  },
  {
   "cell_type": "code",
   "execution_count": 59,
   "metadata": {},
   "outputs": [
    {
     "data": {
      "text/plain": [
       "<matplotlib.axes._subplots.AxesSubplot at 0x1de0846f608>"
      ]
     },
     "execution_count": 59,
     "metadata": {},
     "output_type": "execute_result"
    },
    {
     "data": {
      "image/png": "[encoded data removed]",
      "text/plain": [
       "<Figure size 432x288 with 2 Axes>"
      ]
     },
     "metadata": {
      "needs_background": "light"
     },
     "output_type": "display_data"
    }
   ],
   "source": [
    "sns.heatmap(df_DT, annot =True )"
   ]
  },
  {
   "cell_type": "code",
   "execution_count": 60,
   "metadata": {},
   "outputs": [
    {
     "data": {
      "text/html": [
       "<div>\n",
       "<style scoped>\n",
       "    .dataframe tbody tr th:only-of-type {\n",
       "        vertical-align: middle;\n",
       "    }\n",
       "\n",
       "    .dataframe tbody tr th {\n",
       "        vertical-align: top;\n",
       "    }\n",
       "\n",
       "    .dataframe thead th {\n",
       "        text-align: right;\n",
       "    }\n",
       "</style>\n",
       "<table border=\"1\" class=\"dataframe\">\n",
       "  <thead>\n",
       "    <tr style=\"text-align: right;\">\n",
       "      <th></th>\n",
       "      <th>LogisticReg</th>\n",
       "      <th>KNN</th>\n",
       "      <th>DecisionTree</th>\n",
       "    </tr>\n",
       "  </thead>\n",
       "  <tbody>\n",
       "    <tr>\n",
       "      <th>Precision</th>\n",
       "      <td>0.534759</td>\n",
       "      <td>0.448819</td>\n",
       "      <td>0.448819</td>\n",
       "    </tr>\n",
       "    <tr>\n",
       "      <th>Recall</th>\n",
       "      <td>0.623053</td>\n",
       "      <td>0.532710</td>\n",
       "      <td>0.532710</td>\n",
       "    </tr>\n",
       "    <tr>\n",
       "      <th>F1-Score</th>\n",
       "      <td>0.575540</td>\n",
       "      <td>0.487179</td>\n",
       "      <td>0.487179</td>\n",
       "    </tr>\n",
       "    <tr>\n",
       "      <th>Accuracy</th>\n",
       "      <td>0.631250</td>\n",
       "      <td>0.550000</td>\n",
       "      <td>0.550000</td>\n",
       "    </tr>\n",
       "  </tbody>\n",
       "</table>\n",
       "</div>"
      ],
      "text/plain": [
       "           LogisticReg       KNN  DecisionTree\n",
       "Precision     0.534759  0.448819      0.448819\n",
       "Recall        0.623053  0.532710      0.532710\n",
       "F1-Score      0.575540  0.487179      0.487179\n",
       "Accuracy      0.631250  0.550000      0.550000"
      ]
     },
     "execution_count": 60,
     "metadata": {},
     "output_type": "execute_result"
    }
   ],
   "source": [
    "eval_met = {\n",
    "    \"LogisticReg\": [precision_logreg, recall_logreg, f1score_logreg, acc_logreg],\n",
    "    \"KNN\": [precision_KNN, recall_KNN, f1score_KNN, acc_KNN],\n",
    "    \"DecisionTree\": [precision_KNN, recall_KNN, f1score_KNN, acc_KNN] \n",
    "}\n",
    "\n",
    "\n",
    "pd.DataFrame(data = eval_met, index = ['Precision', 'Recall', 'F1-Score', 'Accuracy'])\n",
    "\n",
    "\n",
    "# we can see that the difference between three base model\n",
    "# Logistic Regression has the highest Recall score than KNN and Decision Tree"
   ]
  },
  {
   "cell_type": "markdown",
   "metadata": {},
   "source": [
    "# Scalling"
   ]
  },
  {
   "cell_type": "code",
   "execution_count": 61,
   "metadata": {},
   "outputs": [],
   "source": [
    "from sklearn.preprocessing import MinMaxScaler, RobustScaler, StandardScaler"
   ]
  },
  {
   "cell_type": "code",
   "execution_count": 65,
   "metadata": {},
   "outputs": [],
   "source": [
    "## Scaling using StandardScaler \n",
    "\n",
    "s_scale = StandardScaler()\n",
    "X_train_scaled = s_scale.fit_transform(X_train_sm)\n",
    "X_test_scaled = s_scale.fit_transform(X_test)"
   ]
  },
  {
   "cell_type": "markdown",
   "metadata": {},
   "source": [
    "# LogReg Scaling"
   ]
  },
  {
   "cell_type": "code",
   "execution_count": 66,
   "metadata": {},
   "outputs": [],
   "source": [
    "logreg_scaled =LogisticRegression()\n",
    "logreg_scaled.fit(X_train_scaled, y_train_sm)\n",
    "y_pred_logreg_scaled = logreg_scaled.predict(X_test_scaled)\n",
    "y_pred_logreg_scaled_train = logreg_scaled.predict(X_train_scaled)"
   ]
  },
  {
   "cell_type": "code",
   "execution_count": 69,
   "metadata": {},
   "outputs": [
    {
     "name": "stdout",
     "output_type": "stream",
     "text": [
      "Train Recall LogReg Scaled : 0.6911841418883672\n",
      "Test Recall LogReg Scaled : 0.67601246105919\n"
     ]
    }
   ],
   "source": [
    "precision_logreg_scaled = precision_score(y_test, y_pred_logreg_scaled)\n",
    "recall_logreg_scaled = recall_score(y_test, y_pred_logreg_scaled)\n",
    "f1score_logreg_scaled = f1_score(y_test, y_pred_logreg_scaled)\n",
    "acc_logreg_scaled = accuracy_score(y_test, y_pred_logreg_scaled)\n",
    "\n",
    "recall_logreg_scaled_train = recall_score(y_train_sm, y_pred_logreg_scaled_train)\n",
    "\n",
    "print(f\"Train Recall LogReg Scaled : {recall_logreg_scaled_train}\")\n",
    "print(f\"Test Recall LogReg Scaled : {recall_logreg_scaled}\")"
   ]
  },
  {
   "cell_type": "code",
   "execution_count": 70,
   "metadata": {},
   "outputs": [
    {
     "name": "stdout",
     "output_type": "stream",
     "text": [
      "              precision    recall  f1-score   support\n",
      "\n",
      "           0       0.74      0.61      0.66       479\n",
      "           1       0.53      0.68      0.60       321\n",
      "\n",
      "    accuracy                           0.63       800\n",
      "   macro avg       0.64      0.64      0.63       800\n",
      "weighted avg       0.66      0.63      0.64       800\n",
      "\n"
     ]
    }
   ],
   "source": [
    "print(classification_report(y_test, y_pred_logreg_scaled))"
   ]
  },
  {
   "cell_type": "code",
   "execution_count": 71,
   "metadata": {},
   "outputs": [
    {
     "data": {
      "text/html": [
       "<div>\n",
       "<style scoped>\n",
       "    .dataframe tbody tr th:only-of-type {\n",
       "        vertical-align: middle;\n",
       "    }\n",
       "\n",
       "    .dataframe tbody tr th {\n",
       "        vertical-align: top;\n",
       "    }\n",
       "\n",
       "    .dataframe thead th {\n",
       "        text-align: right;\n",
       "    }\n",
       "</style>\n",
       "<table border=\"1\" class=\"dataframe\">\n",
       "  <thead>\n",
       "    <tr style=\"text-align: right;\">\n",
       "      <th></th>\n",
       "      <th>Prediksi 1</th>\n",
       "      <th>Prediksi 0</th>\n",
       "    </tr>\n",
       "  </thead>\n",
       "  <tbody>\n",
       "    <tr>\n",
       "      <th>Aktual 1</th>\n",
       "      <td>217</td>\n",
       "      <td>104</td>\n",
       "    </tr>\n",
       "    <tr>\n",
       "      <th>Aktual 0</th>\n",
       "      <td>189</td>\n",
       "      <td>290</td>\n",
       "    </tr>\n",
       "  </tbody>\n",
       "</table>\n",
       "</div>"
      ],
      "text/plain": [
       "          Prediksi 1  Prediksi 0\n",
       "Aktual 1         217         104\n",
       "Aktual 0         189         290"
      ]
     },
     "execution_count": 71,
     "metadata": {},
     "output_type": "execute_result"
    }
   ],
   "source": [
    "cm_logreg_scaled = confusion_matrix(y_test, y_pred_logreg_scaled, labels = [1,0])\n",
    "df_logreg_scaled = pd.DataFrame(data = cm_logreg_scaled, index = ['Aktual 1', 'Aktual 0'], columns = ['Prediksi 1', 'Prediksi 0'])\n",
    "df_logreg_scaled\n",
    "\n",
    "# After scalling, Recall CarInsurance 1 get a better score"
   ]
  },
  {
   "cell_type": "code",
   "execution_count": 74,
   "metadata": {},
   "outputs": [
    {
     "data": {
      "text/plain": [
       "<matplotlib.axes._subplots.AxesSubplot at 0x1de08947708>"
      ]
     },
     "execution_count": 74,
     "metadata": {},
     "output_type": "execute_result"
    },
    {
     "data": {
      "image/png": "[encoded data removed]",
      "text/plain": [
       "<Figure size 432x288 with 2 Axes>"
      ]
     },
     "metadata": {
      "needs_background": "light"
     },
     "output_type": "display_data"
    }
   ],
   "source": [
    "sns.heatmap(df_logreg_scaled, annot = True, cmap= 'coolwarm')"
   ]
  },
  {
   "cell_type": "markdown",
   "metadata": {},
   "source": [
    "# KNN Scalled"
   ]
  },
  {
   "cell_type": "code",
   "execution_count": 75,
   "metadata": {},
   "outputs": [],
   "source": [
    "modelKNN_scaled = KNeighborsClassifier()\n",
    "modelKNN_scaled.fit(X_train_scaled, y_train_sm)\n",
    "y_pred_KNN_scaled = modelKNN_scaled.predict(X_test_scaled)\n",
    "y_pred_KNN_scaled_train = modelKNN_scaled.predict(X_train_scaled)"
   ]
  },
  {
   "cell_type": "code",
   "execution_count": 76,
   "metadata": {},
   "outputs": [
    {
     "name": "stdout",
     "output_type": "stream",
     "text": [
      "Train Recall KNN Scaled : 0.7610850286906625\n",
      "Test Recall KNN Scaled : 0.5327102803738317\n"
     ]
    }
   ],
   "source": [
    "precision_KNN_scaled = precision_score(y_test, y_pred_KNN_scaled)\n",
    "recall_KNN_scaled = recall_score(y_test, y_pred_KNN_scaled)\n",
    "f1score_KNN_scaled = f1_score(y_test, y_pred_KNN_scaled)\n",
    "acc_KNN_scaled = accuracy_score(y_test, y_pred_KNN_scaled)\n",
    "\n",
    "recall_KNN_scaled_train = recall_score(y_train_sm, y_pred_KNN_scaled_train)\n",
    "\n",
    "print(f\"Train Recall KNN Scaled : {recall_KNN_scaled_train}\")\n",
    "print(f\"Test Recall KNN Scaled : {recall_KNN_scaled}\")"
   ]
  },
  {
   "cell_type": "code",
   "execution_count": 77,
   "metadata": {},
   "outputs": [
    {
     "name": "stdout",
     "output_type": "stream",
     "text": [
      "              precision    recall  f1-score   support\n",
      "\n",
      "           0       0.67      0.65      0.66       479\n",
      "           1       0.50      0.53      0.52       321\n",
      "\n",
      "    accuracy                           0.60       800\n",
      "   macro avg       0.59      0.59      0.59       800\n",
      "weighted avg       0.61      0.60      0.60       800\n",
      "\n"
     ]
    }
   ],
   "source": [
    "print(classification_report(y_test, y_pred_KNN_scaled))"
   ]
  },
  {
   "cell_type": "code",
   "execution_count": 78,
   "metadata": {},
   "outputs": [
    {
     "data": {
      "text/html": [
       "<div>\n",
       "<style scoped>\n",
       "    .dataframe tbody tr th:only-of-type {\n",
       "        vertical-align: middle;\n",
       "    }\n",
       "\n",
       "    .dataframe tbody tr th {\n",
       "        vertical-align: top;\n",
       "    }\n",
       "\n",
       "    .dataframe thead th {\n",
       "        text-align: right;\n",
       "    }\n",
       "</style>\n",
       "<table border=\"1\" class=\"dataframe\">\n",
       "  <thead>\n",
       "    <tr style=\"text-align: right;\">\n",
       "      <th></th>\n",
       "      <th>Prediksi 1</th>\n",
       "      <th>Prediksi 0</th>\n",
       "    </tr>\n",
       "  </thead>\n",
       "  <tbody>\n",
       "    <tr>\n",
       "      <th>Aktual 1</th>\n",
       "      <td>171</td>\n",
       "      <td>150</td>\n",
       "    </tr>\n",
       "    <tr>\n",
       "      <th>Aktual 0</th>\n",
       "      <td>169</td>\n",
       "      <td>310</td>\n",
       "    </tr>\n",
       "  </tbody>\n",
       "</table>\n",
       "</div>"
      ],
      "text/plain": [
       "          Prediksi 1  Prediksi 0\n",
       "Aktual 1         171         150\n",
       "Aktual 0         169         310"
      ]
     },
     "execution_count": 78,
     "metadata": {},
     "output_type": "execute_result"
    }
   ],
   "source": [
    "cm_KNN_scaled = confusion_matrix(y_test, y_pred_KNN_scaled, labels = [1,0])\n",
    "df_KNN_scaled = pd.DataFrame(data = cm_KNN_scaled, index = ['Aktual 1', 'Aktual 0'], columns = ['Prediksi 1', 'Prediksi 0'])\n",
    "df_KNN_scaled\n",
    "\n",
    "# After scalling, Recall CarInsurance 1 get the same score as KNN base model"
   ]
  },
  {
   "cell_type": "code",
   "execution_count": 79,
   "metadata": {},
   "outputs": [
    {
     "data": {
      "text/plain": [
       "<matplotlib.axes._subplots.AxesSubplot at 0x1de089ef108>"
      ]
     },
     "execution_count": 79,
     "metadata": {},
     "output_type": "execute_result"
    },
    {
     "data": {
      "image/png": "[encoded data removed]",
      "text/plain": [
       "<Figure size 432x288 with 2 Axes>"
      ]
     },
     "metadata": {
      "needs_background": "light"
     },
     "output_type": "display_data"
    }
   ],
   "source": [
    "sns.heatmap(df_KNN_scaled, annot = True, cmap= 'coolwarm')"
   ]
  },
  {
   "cell_type": "markdown",
   "metadata": {},
   "source": [
    "# Decision Tree Scalling"
   ]
  },
  {
   "cell_type": "code",
   "execution_count": 81,
   "metadata": {},
   "outputs": [],
   "source": [
    "ModelDT_scaled = DecisionTreeClassifier()\n",
    "ModelDT_scaled.fit(X_train_scaled, y_train_sm)\n",
    "y_pred_DT_scaled = ModelDT_scaled.predict(X_test_scaled)\n",
    "y_pred_DT_scaled_train = ModelDT_scaled.predict(X_train_scaled)"
   ]
  },
  {
   "cell_type": "code",
   "execution_count": 82,
   "metadata": {},
   "outputs": [
    {
     "name": "stdout",
     "output_type": "stream",
     "text": [
      "Train Recall Decision Tree Scaled : 1.0\n",
      "Test Recall Decision Tree Scaled : 0.45482866043613707\n"
     ]
    }
   ],
   "source": [
    "precision_DT_scaled = precision_score(y_test, y_pred_DT_scaled)\n",
    "recall_DT_scaled = recall_score(y_test, y_pred_DT_scaled)\n",
    "f1score_DT_scaled = f1_score(y_test, y_pred_DT_scaled)\n",
    "acc_DT_scaled = accuracy_score(y_test, y_pred_DT_scaled)\n",
    "\n",
    "recall_DT_scaled_train = recall_score(y_train_sm, y_pred_DT_scaled_train)\n",
    "\n",
    "print(f\"Train Recall Decision Tree Scaled : {recall_DT_scaled_train}\")\n",
    "print(f\"Test Recall Decision Tree Scaled : {recall_DT_scaled}\")"
   ]
  },
  {
   "cell_type": "code",
   "execution_count": 83,
   "metadata": {},
   "outputs": [
    {
     "name": "stdout",
     "output_type": "stream",
     "text": [
      "              precision    recall  f1-score   support\n",
      "\n",
      "           0       0.64      0.66      0.65       479\n",
      "           1       0.47      0.45      0.46       321\n",
      "\n",
      "    accuracy                           0.58       800\n",
      "   macro avg       0.56      0.56      0.56       800\n",
      "weighted avg       0.57      0.58      0.58       800\n",
      "\n"
     ]
    }
   ],
   "source": [
    "print(classification_report(y_test, y_pred_DT_scaled))"
   ]
  },
  {
   "cell_type": "code",
   "execution_count": 84,
   "metadata": {},
   "outputs": [
    {
     "data": {
      "text/html": [
       "<div>\n",
       "<style scoped>\n",
       "    .dataframe tbody tr th:only-of-type {\n",
       "        vertical-align: middle;\n",
       "    }\n",
       "\n",
       "    .dataframe tbody tr th {\n",
       "        vertical-align: top;\n",
       "    }\n",
       "\n",
       "    .dataframe thead th {\n",
       "        text-align: right;\n",
       "    }\n",
       "</style>\n",
       "<table border=\"1\" class=\"dataframe\">\n",
       "  <thead>\n",
       "    <tr style=\"text-align: right;\">\n",
       "      <th></th>\n",
       "      <th>Prediksi 1</th>\n",
       "      <th>Prediksi 0</th>\n",
       "    </tr>\n",
       "  </thead>\n",
       "  <tbody>\n",
       "    <tr>\n",
       "      <th>Aktual 1</th>\n",
       "      <td>146</td>\n",
       "      <td>175</td>\n",
       "    </tr>\n",
       "    <tr>\n",
       "      <th>Aktual 0</th>\n",
       "      <td>163</td>\n",
       "      <td>316</td>\n",
       "    </tr>\n",
       "  </tbody>\n",
       "</table>\n",
       "</div>"
      ],
      "text/plain": [
       "          Prediksi 1  Prediksi 0\n",
       "Aktual 1         146         175\n",
       "Aktual 0         163         316"
      ]
     },
     "execution_count": 84,
     "metadata": {},
     "output_type": "execute_result"
    }
   ],
   "source": [
    "cm_DT_scaled = confusion_matrix(y_test, y_pred_DT_scaled, labels = [1,0])\n",
    "df_DT_scaled = pd.DataFrame(data = cm_DT_scaled, index = ['Aktual 1', 'Aktual 0'], columns = ['Prediksi 1', 'Prediksi 0'])\n",
    "df_DT_scaled\n",
    "\n",
    "# After scalling, Recall CarInsurance 1 get more worse score as Decision Tree base model"
   ]
  },
  {
   "cell_type": "code",
   "execution_count": 85,
   "metadata": {
    "scrolled": true
   },
   "outputs": [
    {
     "data": {
      "text/plain": [
       "<matplotlib.axes._subplots.AxesSubplot at 0x1de08be1348>"
      ]
     },
     "execution_count": 85,
     "metadata": {},
     "output_type": "execute_result"
    },
    {
     "data": {
      "image/png": "[encoded data removed]",
      "text/plain": [
       "<Figure size 432x288 with 2 Axes>"
      ]
     },
     "metadata": {
      "needs_background": "light"
     },
     "output_type": "display_data"
    }
   ],
   "source": [
    "sns.heatmap(df_DT_scaled, annot = True, cmap= 'coolwarm')"
   ]
  },
  {
   "cell_type": "code",
   "execution_count": null,
   "metadata": {},
   "outputs": [],
   "source": []
  },
  {
   "cell_type": "code",
   "execution_count": 98,
   "metadata": {},
   "outputs": [
    {
     "data": {
      "text/html": [
       "<div>\n",
       "<style scoped>\n",
       "    .dataframe tbody tr th:only-of-type {\n",
       "        vertical-align: middle;\n",
       "    }\n",
       "\n",
       "    .dataframe tbody tr th {\n",
       "        vertical-align: top;\n",
       "    }\n",
       "\n",
       "    .dataframe thead th {\n",
       "        text-align: right;\n",
       "    }\n",
       "</style>\n",
       "<table border=\"1\" class=\"dataframe\">\n",
       "  <thead>\n",
       "    <tr style=\"text-align: right;\">\n",
       "      <th></th>\n",
       "      <th>LogisticReg Scaled</th>\n",
       "      <th>KNN Scaled</th>\n",
       "      <th>DecisionTree Scaled</th>\n",
       "    </tr>\n",
       "  </thead>\n",
       "  <tbody>\n",
       "    <tr>\n",
       "      <th>Precision</th>\n",
       "      <td>0.534483</td>\n",
       "      <td>0.502941</td>\n",
       "      <td>0.472492</td>\n",
       "    </tr>\n",
       "    <tr>\n",
       "      <th>Recall</th>\n",
       "      <td>0.676012</td>\n",
       "      <td>0.532710</td>\n",
       "      <td>0.454829</td>\n",
       "    </tr>\n",
       "    <tr>\n",
       "      <th>F1-Score</th>\n",
       "      <td>0.596974</td>\n",
       "      <td>0.517398</td>\n",
       "      <td>0.463492</td>\n",
       "    </tr>\n",
       "    <tr>\n",
       "      <th>Accuracy</th>\n",
       "      <td>0.633750</td>\n",
       "      <td>0.601250</td>\n",
       "      <td>0.577500</td>\n",
       "    </tr>\n",
       "  </tbody>\n",
       "</table>\n",
       "</div>"
      ],
      "text/plain": [
       "           LogisticReg Scaled   KNN Scaled   DecisionTree Scaled\n",
       "Precision             0.534483     0.502941             0.472492\n",
       "Recall                0.676012     0.532710             0.454829\n",
       "F1-Score              0.596974     0.517398             0.463492\n",
       "Accuracy              0.633750     0.601250             0.577500"
      ]
     },
     "execution_count": 98,
     "metadata": {},
     "output_type": "execute_result"
    }
   ],
   "source": [
    "eval_met_scaled = {\n",
    "    \"LogisticReg Scaled \": [precision_logreg_scaled, recall_logreg_scaled, f1score_logreg_scaled, acc_logreg_scaled],\n",
    "    \"KNN Scaled \": [precision_KNN_scaled, recall_KNN_scaled, f1score_KNN_scaled, acc_KNN_scaled],\n",
    "    \"DecisionTree Scaled\": [precision_DT_scaled, recall_DT_scaled, f1score_DT_scaled, acc_DT_scaled] \n",
    "}\n",
    "\n",
    "\n",
    "pd.DataFrame(data = eval_met_scaled, index = ['Precision', 'Recall', 'F1-Score', 'Accuracy'])\n",
    "\n",
    "\n",
    "# we can see that the difference between three scaled model\n",
    "# Logistic Regression has the highest Recall score than KNN and Decision Tree after scaling with Standard Scaler"
   ]
  },
  {
   "cell_type": "markdown",
   "metadata": {},
   "source": [
    "# Hyperparameter Tuning\n"
   ]
  },
  {
   "cell_type": "markdown",
   "metadata": {},
   "source": [
    "#### Logistic Regression"
   ]
  },
  {
   "cell_type": "code",
   "execution_count": 87,
   "metadata": {},
   "outputs": [],
   "source": [
    "from sklearn.model_selection import GridSearchCV"
   ]
  },
  {
   "cell_type": "code",
   "execution_count": 88,
   "metadata": {},
   "outputs": [
    {
     "name": "stdout",
     "output_type": "stream",
     "text": [
      "Fitting 3 folds for each of 9 candidates, totalling 27 fits\n"
     ]
    },
    {
     "name": "stderr",
     "output_type": "stream",
     "text": [
      "[Parallel(n_jobs=-1)]: Using backend LokyBackend with 4 concurrent workers.\n",
      "[Parallel(n_jobs=-1)]: Done  27 out of  27 | elapsed:   15.7s finished\n"
     ]
    },
    {
     "data": {
      "text/plain": [
       "GridSearchCV(cv=3, error_score=nan,\n",
       "             estimator=LogisticRegression(C=1.0, class_weight=None, dual=False,\n",
       "                                          fit_intercept=True,\n",
       "                                          intercept_scaling=1, l1_ratio=None,\n",
       "                                          max_iter=100, multi_class='auto',\n",
       "                                          n_jobs=None, penalty='l2',\n",
       "                                          random_state=None, solver='lbfgs',\n",
       "                                          tol=0.0001, verbose=0,\n",
       "                                          warm_start=False),\n",
       "             iid='deprecated', n_jobs=-1,\n",
       "             param_grid={'C': [1, 0.5, 0.1],\n",
       "                         'penalty': ['l2', 'l1', 'elasticnet']},\n",
       "             pre_dispatch='2*n_jobs', refit=True, return_train_score=False,\n",
       "             scoring='recall', verbose=1)"
      ]
     },
     "execution_count": 88,
     "metadata": {},
     "output_type": "execute_result"
    }
   ],
   "source": [
    "logreg_tuned = LogisticRegression()\n",
    "param_logreg = {'C': [1, 0.5, 0.1],\n",
    "               'penalty':['l2','l1', 'elasticnet']}\n",
    "\n",
    "model_logreg_tuned = GridSearchCV(estimator = logreg_tuned, param_grid = param_logreg, \n",
    "                                  cv = 3, n_jobs = -1 , verbose = 1, scoring = 'recall')\n",
    "model_logreg_tuned.fit(X_train_sm, y_train_sm)"
   ]
  },
  {
   "cell_type": "code",
   "execution_count": 89,
   "metadata": {},
   "outputs": [
    {
     "name": "stdout",
     "output_type": "stream",
     "text": [
      "Train Recall LogReg Tuned : 0.6421491914449661\n",
      "Test Recall LogReg Tuned : 0.6012461059190031\n"
     ]
    }
   ],
   "source": [
    "logreg_tuned_ = model_logreg_tuned.best_estimator_\n",
    "y_pred_logreg_tuned = logreg_tuned_.predict(X_test)\n",
    "y_pred_logreg_train_tuned = logreg_tuned_.predict(X_train_sm)\n",
    "\n",
    "precision_logreg_tuned = precision_score(y_test, y_pred_logreg_tuned)\n",
    "recall_logreg_tuned = recall_score(y_test, y_pred_logreg_tuned)\n",
    "acc_logreg_tuned = accuracy_score(y_test, y_pred_logreg_tuned)\n",
    "f1score_logreg_tuned = f1_score(y_test, y_pred_logreg_tuned)\n",
    "\n",
    "recall_logreg_train_tuned = recall_score(y_train_sm, y_pred_logreg_train_tuned)\n",
    "\n",
    "print(f\"Train Recall LogReg Tuned : {recall_logreg_train_tuned}\")\n",
    "print(f\"Test Recall LogReg Tuned : {recall_logreg_tuned}\")\n",
    "\n",
    "# The score get worse for logistic regression after hyperparameter tuning"
   ]
  },
  {
   "cell_type": "code",
   "execution_count": 90,
   "metadata": {},
   "outputs": [
    {
     "name": "stdout",
     "output_type": "stream",
     "text": [
      "              precision    recall  f1-score   support\n",
      "\n",
      "           0       0.71      0.65      0.68       479\n",
      "           1       0.53      0.60      0.57       321\n",
      "\n",
      "    accuracy                           0.63       800\n",
      "   macro avg       0.62      0.62      0.62       800\n",
      "weighted avg       0.64      0.63      0.63       800\n",
      "\n"
     ]
    }
   ],
   "source": [
    "print(classification_report(y_test, y_pred_logreg_tuned))"
   ]
  },
  {
   "cell_type": "code",
   "execution_count": 91,
   "metadata": {},
   "outputs": [
    {
     "name": "stdout",
     "output_type": "stream",
     "text": [
      "          Prediksi 1  Prediksi 0\n",
      "Aktual 1         193         128\n",
      "Aktual 0         169         310\n",
      "          Prediksi 1  Prediksi 0\n",
      "aktual 1         200         121\n",
      "aktual 0         174         305\n"
     ]
    }
   ],
   "source": [
    "cm_logreg_tuned = confusion_matrix(y_test, y_pred_logreg_tuned, labels = [1,0])\n",
    "df_logreg_tuned = pd.DataFrame(data = cm_logreg_tuned, index = ['Aktual 1', 'Aktual 0'], columns = ['Prediksi 1', 'Prediksi 0'])\n",
    "print(df_logreg_tuned)\n",
    "print(df_logreg)\n"
   ]
  },
  {
   "cell_type": "code",
   "execution_count": 93,
   "metadata": {},
   "outputs": [
    {
     "data": {
      "text/plain": [
       "<matplotlib.axes._subplots.AxesSubplot at 0x1de08bc2048>"
      ]
     },
     "execution_count": 93,
     "metadata": {},
     "output_type": "execute_result"
    },
    {
     "data": {
      "image/png": "[encoded data removed]",
      "text/plain": [
       "<Figure size 432x288 with 2 Axes>"
      ]
     },
     "metadata": {
      "needs_background": "light"
     },
     "output_type": "display_data"
    }
   ],
   "source": [
    "sns.heatmap(df_logreg_tuned, annot =True, cmap= 'coolwarm')"
   ]
  },
  {
   "cell_type": "markdown",
   "metadata": {},
   "source": [
    "# KNN Tuning"
   ]
  },
  {
   "cell_type": "code",
   "execution_count": 100,
   "metadata": {},
   "outputs": [
    {
     "name": "stdout",
     "output_type": "stream",
     "text": [
      "Fitting 3 folds for each of 48 candidates, totalling 144 fits\n"
     ]
    },
    {
     "name": "stderr",
     "output_type": "stream",
     "text": [
      "[Parallel(n_jobs=-1)]: Using backend LokyBackend with 4 concurrent workers.\n",
      "[Parallel(n_jobs=-1)]: Done  42 tasks      | elapsed:    6.4s\n",
      "[Parallel(n_jobs=-1)]: Done 144 out of 144 | elapsed:    8.9s finished\n"
     ]
    },
    {
     "data": {
      "text/plain": [
       "GridSearchCV(cv=3, error_score=nan,\n",
       "             estimator=KNeighborsClassifier(algorithm='auto', leaf_size=30,\n",
       "                                            metric='minkowski',\n",
       "                                            metric_params=None, n_jobs=None,\n",
       "                                            n_neighbors=5, p=2,\n",
       "                                            weights='uniform'),\n",
       "             iid='deprecated', n_jobs=-1,\n",
       "             param_grid={'algorithm': ['auto', 'kd_tree'],\n",
       "                         'n_neighbors': [5, 3, 10, 20], 'p': [2, 1, 0.2],\n",
       "                         'weights': ['uniform', 'distance']},\n",
       "             pre_dispatch='2*n_jobs', refit=True, return_train_score=False,\n",
       "             scoring='recall', verbose=1)"
      ]
     },
     "execution_count": 100,
     "metadata": {},
     "output_type": "execute_result"
    }
   ],
   "source": [
    "KNN_tuned = KNeighborsClassifier()\n",
    "param_KNN = {'n_neighbors': [5, 3 , 10, 20],\n",
    "            'weights': ['uniform', 'distance'],\n",
    "            'p': [2,1, 0.2],\n",
    "            'algorithm': ['auto', 'kd_tree']}\n",
    "\n",
    "model_KNN_tuned = GridSearchCV(estimator = KNN_tuned, param_grid = param_KNN, cv = 3, \n",
    "                          n_jobs = -1 , verbose = 1, scoring = 'recall')\n",
    "\n",
    "model_KNN_tuned.fit(X_train_sm, y_train_sm)"
   ]
  },
  {
   "cell_type": "code",
   "execution_count": 101,
   "metadata": {},
   "outputs": [
    {
     "name": "stdout",
     "output_type": "stream",
     "text": [
      "Train Recall KNN Tuned : 1.0\n",
      "Test Recall KNN Tuned : 0.5233644859813084\n"
     ]
    }
   ],
   "source": [
    "KNN_tuned_ = model_KNN_tuned.best_estimator_\n",
    "y_pred_KNN_tuned = model_KNN_tuned.predict(X_test)\n",
    "y_pred_KNN_train_tuned = model_KNN_tuned.predict(X_train_sm)\n",
    "\n",
    "precision_KNN_tuned = precision_score(y_test, y_pred_KNN_tuned)\n",
    "recall_KNN_tuned = recall_score(y_test, y_pred_KNN_tuned)\n",
    "acc_KNN_tuned = accuracy_score(y_test, y_pred_KNN_tuned)\n",
    "f1score_KNN_tuned = f1_score(y_test, y_pred_KNN_tuned)\n",
    "\n",
    "recall_KNN_train_tuned = recall_score(y_train_sm, y_pred_KNN_train_tuned)\n",
    "\n",
    "print(f\"Train Recall KNN Tuned : {recall_KNN_train_tuned}\")\n",
    "print(f\"Test Recall KNN Tuned : {recall_KNN_tuned}\")"
   ]
  },
  {
   "cell_type": "code",
   "execution_count": 102,
   "metadata": {},
   "outputs": [
    {
     "name": "stdout",
     "output_type": "stream",
     "text": [
      "              precision    recall  f1-score   support\n",
      "\n",
      "           0       0.65      0.59      0.62       479\n",
      "           1       0.46      0.52      0.49       321\n",
      "\n",
      "    accuracy                           0.56       800\n",
      "   macro avg       0.56      0.56      0.56       800\n",
      "weighted avg       0.57      0.56      0.57       800\n",
      "\n"
     ]
    }
   ],
   "source": [
    "# KNN Tuned\n",
    "print(classification_report(y_test, y_pred_KNN_tuned))"
   ]
  },
  {
   "cell_type": "code",
   "execution_count": 105,
   "metadata": {},
   "outputs": [
    {
     "name": "stdout",
     "output_type": "stream",
     "text": [
      "              precision    recall  f1-score   support\n",
      "\n",
      "           0       0.67      0.65      0.66       479\n",
      "           1       0.50      0.53      0.52       321\n",
      "\n",
      "    accuracy                           0.60       800\n",
      "   macro avg       0.59      0.59      0.59       800\n",
      "weighted avg       0.61      0.60      0.60       800\n",
      "\n"
     ]
    }
   ],
   "source": [
    "# KNN Base Model\n",
    "\n",
    "print(classification_report(y_test, y_pred_KNN_scaled))"
   ]
  },
  {
   "cell_type": "code",
   "execution_count": 103,
   "metadata": {},
   "outputs": [
    {
     "name": "stdout",
     "output_type": "stream",
     "text": [
      "          Prediksi 1  Prediksi 0\n",
      "Aktual 1         193         128\n",
      "Aktual 0         169         310\n",
      "          Prediksi 1  Prediksi 0\n",
      "aktual 1         200         121\n",
      "aktual 0         174         305\n"
     ]
    }
   ],
   "source": [
    "cm_KNN_tuned = confusion_matrix(y_test, y_pred_logreg_tuned, labels = [1,0])\n",
    "df_KNN_tuned = pd.DataFrame(data = cm_KNN_tuned, index = ['Aktual 1', 'Aktual 0'], columns = ['Prediksi 1', 'Prediksi 0'])\n",
    "print(df_KNN_tuned)\n",
    "print(df_logreg)\n"
   ]
  },
  {
   "cell_type": "code",
   "execution_count": 104,
   "metadata": {},
   "outputs": [
    {
     "data": {
      "text/plain": [
       "<matplotlib.axes._subplots.AxesSubplot at 0x1de0a2b62c8>"
      ]
     },
     "execution_count": 104,
     "metadata": {},
     "output_type": "execute_result"
    },
    {
     "data": {
      "image/png": "[encoded data removed]",
      "text/plain": [
       "<Figure size 432x288 with 2 Axes>"
      ]
     },
     "metadata": {
      "needs_background": "light"
     },
     "output_type": "display_data"
    }
   ],
   "source": [
    "sns.heatmap(df_KNN_tuned, annot =True, cmap= 'coolwarm')"
   ]
  },
  {
   "cell_type": "code",
   "execution_count": null,
   "metadata": {},
   "outputs": [],
   "source": []
  },
  {
   "cell_type": "code",
   "execution_count": null,
   "metadata": {},
   "outputs": [],
   "source": []
  },
  {
   "cell_type": "code",
   "execution_count": null,
   "metadata": {},
   "outputs": [],
   "source": []
  },
  {
   "cell_type": "code",
   "execution_count": null,
   "metadata": {},
   "outputs": [],
   "source": []
  },
  {
   "cell_type": "code",
   "execution_count": null,
   "metadata": {},
   "outputs": [],
   "source": []
  },
  {
   "cell_type": "code",
   "execution_count": null,
   "metadata": {},
   "outputs": [],
   "source": []
  },
  {
   "cell_type": "code",
   "execution_count": null,
   "metadata": {},
   "outputs": [],
   "source": []
  },
  {
   "cell_type": "code",
   "execution_count": 97,
   "metadata": {},
   "outputs": [
    {
     "data": {
      "text/html": [
       "<div>\n",
       "<style scoped>\n",
       "    .dataframe tbody tr th:only-of-type {\n",
       "        vertical-align: middle;\n",
       "    }\n",
       "\n",
       "    .dataframe tbody tr th {\n",
       "        vertical-align: top;\n",
       "    }\n",
       "\n",
       "    .dataframe thead th {\n",
       "        text-align: right;\n",
       "    }\n",
       "</style>\n",
       "<table border=\"1\" class=\"dataframe\">\n",
       "  <thead>\n",
       "    <tr style=\"text-align: right;\">\n",
       "      <th></th>\n",
       "      <th>LogisticReg</th>\n",
       "      <th>KNN</th>\n",
       "      <th>DecisionTree</th>\n",
       "    </tr>\n",
       "  </thead>\n",
       "  <tbody>\n",
       "    <tr>\n",
       "      <th>Precision</th>\n",
       "      <td>0.534759</td>\n",
       "      <td>0.448819</td>\n",
       "      <td>0.448819</td>\n",
       "    </tr>\n",
       "    <tr>\n",
       "      <th>Recall</th>\n",
       "      <td>0.623053</td>\n",
       "      <td>0.532710</td>\n",
       "      <td>0.532710</td>\n",
       "    </tr>\n",
       "    <tr>\n",
       "      <th>F1-Score</th>\n",
       "      <td>0.575540</td>\n",
       "      <td>0.487179</td>\n",
       "      <td>0.487179</td>\n",
       "    </tr>\n",
       "    <tr>\n",
       "      <th>Accuracy</th>\n",
       "      <td>0.631250</td>\n",
       "      <td>0.550000</td>\n",
       "      <td>0.550000</td>\n",
       "    </tr>\n",
       "  </tbody>\n",
       "</table>\n",
       "</div>"
      ],
      "text/plain": [
       "           LogisticReg       KNN  DecisionTree\n",
       "Precision     0.534759  0.448819      0.448819\n",
       "Recall        0.623053  0.532710      0.532710\n",
       "F1-Score      0.575540  0.487179      0.487179\n",
       "Accuracy      0.631250  0.550000      0.550000"
      ]
     },
     "execution_count": 97,
     "metadata": {},
     "output_type": "execute_result"
    }
   ],
   "source": [
    "# Base Model\n",
    "\n",
    "pd.DataFrame(data = eval_met, index = ['Precision', 'Recall', 'F1-Score', 'Accuracy'])"
   ]
  },
  {
   "cell_type": "code",
   "execution_count": 99,
   "metadata": {},
   "outputs": [
    {
     "data": {
      "text/html": [
       "<div>\n",
       "<style scoped>\n",
       "    .dataframe tbody tr th:only-of-type {\n",
       "        vertical-align: middle;\n",
       "    }\n",
       "\n",
       "    .dataframe tbody tr th {\n",
       "        vertical-align: top;\n",
       "    }\n",
       "\n",
       "    .dataframe thead th {\n",
       "        text-align: right;\n",
       "    }\n",
       "</style>\n",
       "<table border=\"1\" class=\"dataframe\">\n",
       "  <thead>\n",
       "    <tr style=\"text-align: right;\">\n",
       "      <th></th>\n",
       "      <th>LogisticReg Scaled</th>\n",
       "      <th>KNN Scaled</th>\n",
       "      <th>DecisionTree Scaled</th>\n",
       "    </tr>\n",
       "  </thead>\n",
       "  <tbody>\n",
       "    <tr>\n",
       "      <th>Precision</th>\n",
       "      <td>0.534483</td>\n",
       "      <td>0.502941</td>\n",
       "      <td>0.472492</td>\n",
       "    </tr>\n",
       "    <tr>\n",
       "      <th>Recall</th>\n",
       "      <td>0.676012</td>\n",
       "      <td>0.532710</td>\n",
       "      <td>0.454829</td>\n",
       "    </tr>\n",
       "    <tr>\n",
       "      <th>F1-Score</th>\n",
       "      <td>0.596974</td>\n",
       "      <td>0.517398</td>\n",
       "      <td>0.463492</td>\n",
       "    </tr>\n",
       "    <tr>\n",
       "      <th>Accuracy</th>\n",
       "      <td>0.633750</td>\n",
       "      <td>0.601250</td>\n",
       "      <td>0.577500</td>\n",
       "    </tr>\n",
       "  </tbody>\n",
       "</table>\n",
       "</div>"
      ],
      "text/plain": [
       "           LogisticReg Scaled   KNN Scaled   DecisionTree Scaled\n",
       "Precision             0.534483     0.502941             0.472492\n",
       "Recall                0.676012     0.532710             0.454829\n",
       "F1-Score              0.596974     0.517398             0.463492\n",
       "Accuracy              0.633750     0.601250             0.577500"
      ]
     },
     "execution_count": 99,
     "metadata": {},
     "output_type": "execute_result"
    }
   ],
   "source": [
    "# Scaled\n",
    "\n",
    "pd.DataFrame(data = eval_met_scaled, index = ['Precision', 'Recall', 'F1-Score', 'Accuracy'])\n",
    "\n",
    "# "
   ]
  },
  {
   "cell_type": "markdown",
   "metadata": {},
   "source": [
    "### There's an upgrade recall score between base model LogReg and LogReg Scalled\n",
    "### From 62% to 67.6%"
   ]
  },
  {
   "cell_type": "code",
   "execution_count": null,
   "metadata": {},
   "outputs": [],
   "source": []
  },
  {
   "cell_type": "markdown",
   "metadata": {},
   "source": [
    "### Conclusion\n",
    "\n",
    "#### Logistic Regression has the best recall score among all algorithm that we tried in this notebook\n",
    "    - from all the algorithm we tried (Logistic Regression, KNN, and Decision Tree) Logistic regression has the best recall score (62.3%)\n",
    "    \n",
    "\n",
    "#### Scalling has an effect on Logistic Regression"
   ]
  },
  {
   "cell_type": "code",
   "execution_count": null,
   "metadata": {},
   "outputs": [],
   "source": []
  },
  {
   "cell_type": "code",
   "execution_count": null,
   "metadata": {},
   "outputs": [],
   "source": []
  },
  {
   "cell_type": "code",
   "execution_count": null,
   "metadata": {},
   "outputs": [],
   "source": []
  },
  {
   "cell_type": "code",
   "execution_count": null,
   "metadata": {},
   "outputs": [],
   "source": []
  },
  {
   "cell_type": "code",
   "execution_count": null,
   "metadata": {},
   "outputs": [],
   "source": []
  },
  {
   "cell_type": "code",
   "execution_count": null,
   "metadata": {},
   "outputs": [],
   "source": []
  },
  {
   "cell_type": "code",
   "execution_count": null,
   "metadata": {},
   "outputs": [],
   "source": []
  },
  {
   "cell_type": "code",
   "execution_count": null,
   "metadata": {},
   "outputs": [],
   "source": []
  },
  {
   "cell_type": "code",
   "execution_count": null,
   "metadata": {},
   "outputs": [],
   "source": []
  },
  {
   "cell_type": "code",
   "execution_count": null,
   "metadata": {},
   "outputs": [],
   "source": []
  }
 ],
 "metadata": {
  "kernelspec": {
   "display_name": "Python 3",
   "language": "python",
   "name": "python3"
  },
  "language_info": {
   "codemirror_mode": {
    "name": "ipython",
    "version": 3
   },
   "file_extension": ".py",
   "mimetype": "text/x-python",
   "name": "python",
   "nbconvert_exporter": "python",
   "pygments_lexer": "ipython3",
   "version": "3.7.6"
  }
 },
 "nbformat": 4,
 "nbformat_minor": 4
}
